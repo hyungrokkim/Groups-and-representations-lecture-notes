{
 "cells": [
  {
   "cell_type": "markdown",
   "metadata": {},
   "source": [
    "# Lecture 5 - Irreducible representations\n",
    "\n",
    "## Subrepresentations\n",
    "\n",
    "A subrepresentation is a subvector space that is also a representation of $G$ under the same action.\n",
    "\n",
    "```{admonition} Definition (Subrepresentation)\n",
    ":class: definition\n",
    "\n",
    "Let $V$ be a linear representation of a group $G$. A subspace $W$ of $V$ is a subrepresentation if $W$ is invariant under $G$ - that is, if $g.w\\in W$ for all $g\\in G$ and all $w\\in W$.\n",
    "```"
   ]
  }
 ],
 "metadata": {
  "kernelspec": {
   "display_name": "Python 3 (ipykernel)",
   "language": "python",
   "name": "python3"
  },
  "language_info": {
   "codemirror_mode": {
    "name": "ipython",
    "version": 3
   },
   "file_extension": ".py",
   "mimetype": "text/x-python",
   "name": "python",
   "nbconvert_exporter": "python",
   "pygments_lexer": "ipython3",
   "version": "3.9.7"
  },
  "widgets": {
   "application/vnd.jupyter.widget-state+json": {
    "state": {},
    "version_major": 2,
    "version_minor": 0
   }
  }
 },
 "nbformat": 4,
 "nbformat_minor": 4
}
