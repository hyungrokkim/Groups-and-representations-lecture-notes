{
 "cells": [
  {
   "cell_type": "markdown",
   "metadata": {},
   "source": [
    "# Representations of matrix groups relevant to physics\n",
    "\n",
    "In this lecture we focus on the Lorentz group:\n",
    "$$\n",
    "\\operatorname{Lor} = \\{ A\\in\\operatorname{GL}_4(\\mathbb R)\\colon A\\eta A^\\top=\\eta\\}\n",
    "$$\n",
    "for $\\eta=\\operatorname{diag}(-1,1,1,1)$.\n",
    "\n",
    "An important observation: the algebra of infinitesimal generators of the Lorentz gorup is isomorphic to the tensor product of the algebra of generators for the group $\\operatorname{SU}_2$:\n",
    "$$\n",
    "    \\text{``}\\operatorname{Lor} \\cong (\\operatorname{SU}_2,\\operatorname{SU}_2)\\text{''}\n",
    "$$\n",
    "Therefore finite-dimensional irreducible representations of $\\operatorname{Lor}$ are labelled by two half-integers (spins).\n",
    "\n",
    "We have the following low-dimension irreps:\n",
    "- $\\overset{\\textcolor{blue}{(\\bullet,\\bullet)}}{(0,0)}$: this is the trivial representation, sometimes called the _scalar representation_. It is one-dimensional.\n",
    "- $\\overset{\\textcolor{blue}{(\\square,\\bullet)}}{(\\tfrac12,0)}$: this is a two-dimensional representation, the so-called _left-handed Weyl_ representation. In physics it is used to describe fermions, for example neutrinos.\n",
    "- $\\overset{\\textcolor{blue}{(\\bullet,\\square)}}{(0,\\tfrac12)}$: this is the corresponding two-dimensional representation of _right-handed Weyl spinors_.\n",
    "- $\\overset{\\textcolor{blue}{(\\square,\\square)}}{(\\tfrac12,\\tfrac12)}$: this is the four-dimensional _fundamental representation_. It is used to describe spin-one bosonic particles, for example the electromagnetic field.\n",
    "- $(m,n)$: general tensor representations of the Lorentz group. They are $(m+1)\\cdot(n+1)$-dimensional.\n",
    "- We can also define the so-called Dirac spinors, that are 4-dimensional and transform as the direct sum of Weyl spinors:\n",
    "$$\\underset{\\textcolor{blue}{(\\square,\\bullet)\\oplus(\\bullet,\\square)}}{(\\tfrac12,0)\\oplus(0,\\tfrac12)}$$"
   ]
  },
  {
   "cell_type": "code",
   "execution_count": null,
   "metadata": {},
   "outputs": [],
   "source": []
  }
 ],
 "metadata": {
  "kernelspec": {
   "display_name": "Python 3 (ipykernel)",
   "language": "python",
   "name": "python3"
  },
  "language_info": {
   "codemirror_mode": {
    "name": "ipython",
    "version": 3
   },
   "file_extension": ".py",
   "mimetype": "text/x-python",
   "name": "python",
   "nbconvert_exporter": "python",
   "pygments_lexer": "ipython3",
   "version": "3.12.5"
  },
  "widgets": {
   "application/vnd.jupyter.widget-state+json": {
    "state": {},
    "version_major": 2,
    "version_minor": 0
   }
  }
 },
 "nbformat": 4,
 "nbformat_minor": 4
}
